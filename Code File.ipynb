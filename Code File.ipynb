{
 "cells": [
  {
   "cell_type": "markdown",
   "id": "0582b5c3-9f0d-4ddb-b495-d2d36b43a207",
   "metadata": {},
   "source": [
    " # **Importing Libraries**"
   ]
  },
  {
   "cell_type": "code",
   "execution_count": null,
   "id": "521bcd74-1901-4094-a307-42c01445ea48",
   "metadata": {
    "scrolled": true
   },
   "outputs": [],
   "source": [
    "import pandas as pd\n",
    "import numpy as np\n",
    "import pymysql  "
   ]
  },
  {
   "cell_type": "markdown",
   "id": "dee82d9b-1a2f-4676-a0e3-0c50cc590a61",
   "metadata": {},
   "source": [
    "## Extract - Load Datasets"
   ]
  },
  {
   "cell_type": "code",
   "execution_count": 29,
   "id": "aba34871-f6e6-42ec-9e45-62ce57fddd88",
   "metadata": {},
   "outputs": [],
   "source": [
    "\n",
    "\n",
    "files = {\n",
    "    '2020': \"D:/Gartner/IT_Services_Marketshare_Masked/IT_Services_Marketshare_2020 (742642).CSV\",\n",
    "    '2020Q1': \"D:/Gartner/IT_Services_Marketshare_Masked/IT_Services_Marketshare_2020Q1.CSV\",\n",
    "    '2021': \"D:/Gartner/IT_Services_Marketshare_Masked/IT_Services_Marketshare_2021 (765402).CSV\",\n",
    "    '2022': \"D:/Gartner/IT_Services_Marketshare_Masked/IT_Services_Marketshare_2022 (787876).CSV\",\n",
    "    '2023': \"D:/Gartner/IT_Services_Marketshare_Masked/IT_Services_Marketshare_2023 (808454).CSV\"\n",
    "}\n"
   ]
  },
  {
   "cell_type": "markdown",
   "id": "2fc51ef4-b90b-4e3c-a108-5b4bfdd453c1",
   "metadata": {},
   "source": [
    "## Load datasets"
   ]
  },
  {
   "cell_type": "code",
   "execution_count": 30,
   "id": "4f2f261f-1c36-4dcb-b50e-e1a2bfdee439",
   "metadata": {},
   "outputs": [],
   "source": [
    "\n",
    "datasets = {year: pd.read_csv(file) for year, file in files.items()}"
   ]
  },
  {
   "cell_type": "markdown",
   "id": "868f54e1-8974-4320-9dd8-0f3ca24ae0df",
   "metadata": {},
   "source": [
    "## Display sample data"
   ]
  },
  {
   "cell_type": "code",
   "execution_count": 33,
   "id": "596d6df7-71d3-41b4-b85e-b5db5a1bd231",
   "metadata": {},
   "outputs": [
    {
     "name": "stdout",
     "output_type": "stream",
     "text": [
      "Dataset 2020:\n",
      "       Year    Super Region          Region         Country    Vendor  \\\n",
      "0  2019 YR  Eastern Europe  Eastern Europe  Czech Republic  Vendor 2   \n",
      "1  2019 YR  Eastern Europe  Eastern Europe  Czech Republic  Vendor 2   \n",
      "2  2019 YR  Eastern Europe  Eastern Europe  Czech Republic  Vendor 2   \n",
      "3  2019 YR  Eastern Europe  Eastern Europe  Czech Republic  Vendor 2   \n",
      "4  2019 YR  Eastern Europe  Eastern Europe  Czech Republic  Vendor 2   \n",
      "\n",
      "     Service 1                                        Service 2  \\\n",
      "0  IT Services  Application Implementation and Managed Services   \n",
      "1  IT Services  Application Implementation and Managed Services   \n",
      "2  IT Services  Application Implementation and Managed Services   \n",
      "3  IT Services  Application Implementation and Managed Services   \n",
      "4  IT Services  Application Implementation and Managed Services   \n",
      "\n",
      "                    Service 3                          Vertical    Ticker  \\\n",
      "0  Application Implementation              Banking & Securities  Ticker 2   \n",
      "1  Application Implementation  Communications, Media & Services  Ticker 2   \n",
      "2  Application Implementation                         Education  Ticker 2   \n",
      "3  Application Implementation                        Government  Ticker 2   \n",
      "4  Application Implementation              Healthcare Providers  Ticker 2   \n",
      "\n",
      "      HQ Country  VendorRevenue-USD  ConstantCurrency Revenue-USD  \n",
      "0  United States           5.693025                      5.632195  \n",
      "1  United States           8.248331                      8.160199  \n",
      "2  United States           0.098793                      0.097737  \n",
      "3  United States           4.374420                      4.327679  \n",
      "4  United States           2.630113                      2.602010   \n",
      "\n",
      "Dataset 2020Q1:\n",
      "       Year Super Region         Region    Country    Vendor    Service 1  \\\n",
      "0  2018 YR     Americas  Latin America  Argentina  Vendor 2  IT Services   \n",
      "1  2018 YR     Americas  Latin America  Argentina  Vendor 2  IT Services   \n",
      "2  2018 YR     Americas  Latin America  Argentina  Vendor 2  IT Services   \n",
      "3  2018 YR     Americas  Latin America  Argentina  Vendor 2  IT Services   \n",
      "4  2018 YR     Americas  Latin America  Argentina  Vendor 2  IT Services   \n",
      "\n",
      "                      Service 2                     Service 3  \\\n",
      "0  Business Process Outsourcing  Business Process Outsourcing   \n",
      "1  Business Process Outsourcing  Business Process Outsourcing   \n",
      "2  Business Process Outsourcing  Business Process Outsourcing   \n",
      "3  Business Process Outsourcing  Business Process Outsourcing   \n",
      "4  Business Process Outsourcing  Business Process Outsourcing   \n",
      "\n",
      "                           Vertical    Ticker     HQ Country  \\\n",
      "0              Banking & Securities  Ticker 2  United States   \n",
      "1  Communications, Media & Services  Ticker 2  United States   \n",
      "2                         Education  Ticker 2  United States   \n",
      "3                        Government  Ticker 2  United States   \n",
      "4              Healthcare Providers  Ticker 2  United States   \n",
      "\n",
      "   VendorRevenue-USD  ConstantCurrency Revenue-USD  \n",
      "0           1.172195                      6.018736  \n",
      "1           1.400489                      7.190929  \n",
      "2           0.019555                      0.100409  \n",
      "3           0.915736                      4.701925  \n",
      "4           0.315534                      1.620138   \n",
      "\n",
      "Dataset 2021:\n",
      "       Year    Super Region          Region         Country    Vendor  \\\n",
      "0  2020 YR  Eastern Europe  Eastern Europe  Czech Republic  Vendor 2   \n",
      "1  2020 YR  Eastern Europe  Eastern Europe  Czech Republic  Vendor 2   \n",
      "2  2020 YR  Eastern Europe  Eastern Europe  Czech Republic  Vendor 2   \n",
      "3  2020 YR  Eastern Europe  Eastern Europe  Czech Republic  Vendor 2   \n",
      "4  2020 YR  Eastern Europe  Eastern Europe  Czech Republic  Vendor 2   \n",
      "\n",
      "    Vendor.1    Service 1                                        Service 2  \\\n",
      "0  Accenture  IT Services  Application Implementation and Managed Services   \n",
      "1  Accenture  IT Services  Application Implementation and Managed Services   \n",
      "2  Accenture  IT Services  Application Implementation and Managed Services   \n",
      "3  Accenture  IT Services  Application Implementation and Managed Services   \n",
      "4  Accenture  IT Services  Application Implementation and Managed Services   \n",
      "\n",
      "                    Service 3                           Vertical    Ticker  \\\n",
      "0  Application Implementation      Banking & Investment Services  Ticker 2   \n",
      "1  Application Implementation  Communications Media and Services  Ticker 2   \n",
      "2  Application Implementation                          Education  Ticker 2   \n",
      "3  Application Implementation                         Government  Ticker 2   \n",
      "4  Application Implementation       Healthcare and Life Sciences  Ticker 2   \n",
      "\n",
      "      HQ Country  VendorRevenue-USD  ConstantCurrency Revenue-USD  \n",
      "0  United States           5.432218                      5.432218  \n",
      "1  United States           8.562894                      8.562894  \n",
      "2  United States           0.098677                      0.098677  \n",
      "3  United States           4.811882                      4.811882  \n",
      "4  United States           5.020963                      5.020962   \n",
      "\n",
      "Dataset 2022:\n",
      "       Year    Super Region          Region         Country    Vendor  \\\n",
      "0  2021 YR  Eastern Europe  Eastern Europe  Czech Republic  Vendor 2   \n",
      "1  2021 YR  Eastern Europe  Eastern Europe  Czech Republic  Vendor 2   \n",
      "2  2021 YR  Eastern Europe  Eastern Europe  Czech Republic  Vendor 2   \n",
      "3  2021 YR  Eastern Europe  Eastern Europe  Czech Republic  Vendor 2   \n",
      "4  2021 YR  Eastern Europe  Eastern Europe  Czech Republic  Vendor 2   \n",
      "\n",
      "    Vendor.1    Service 1                                        Service 2  \\\n",
      "0  Accenture  IT Services  Application Implementation and Managed Services   \n",
      "1  Accenture  IT Services  Application Implementation and Managed Services   \n",
      "2  Accenture  IT Services  Application Implementation and Managed Services   \n",
      "3  Accenture  IT Services  Application Implementation and Managed Services   \n",
      "4  Accenture  IT Services  Application Implementation and Managed Services   \n",
      "\n",
      "                    Service 3                           Vertical    Ticker  \\\n",
      "0  Application Implementation      Banking & Investment Services  Ticker 2   \n",
      "1  Application Implementation  Communications Media and Services  Ticker 2   \n",
      "2  Application Implementation                          Education  Ticker 2   \n",
      "3  Application Implementation                         Government  Ticker 2   \n",
      "4  Application Implementation       Healthcare and Life Sciences  Ticker 2   \n",
      "\n",
      "      HQ Country  VendorRevenue-USD  ConstantCurrency Revenue-USD  \n",
      "0  United States           7.055103                      6.589329  \n",
      "1  United States          10.720365                     10.012612  \n",
      "2  United States           0.142403                      0.133002  \n",
      "3  United States           6.334292                      5.916105  \n",
      "4  United States           6.392021                      5.970023   \n",
      "\n",
      "Dataset 2023:\n",
      "       Year          Region Country    Vendor Service 1  \\\n",
      "0  2022 YR  China (Region)   China  Vendor 1  Services   \n",
      "1  2022 YR  China (Region)   China  Vendor 1  Services   \n",
      "2  2022 YR  China (Region)   China  Vendor 1  Services   \n",
      "3  2022 YR  China (Region)   China  Vendor 1  Services   \n",
      "4  2022 YR  China (Region)   China  Vendor 1  Services   \n",
      "\n",
      "                                         Service 2  \\\n",
      "0  Application Implementation and Managed Services   \n",
      "1  Application Implementation and Managed Services   \n",
      "2  Application Implementation and Managed Services   \n",
      "3  Application Implementation and Managed Services   \n",
      "4  Application Implementation and Managed Services   \n",
      "\n",
      "                    Service 3                             Vertical    Ticker  \\\n",
      "0  Application Implementation  Manufacturing and Natural Resources  Ticker 1   \n",
      "1  Application Implementation                          Oil and Gas  Ticker 1   \n",
      "2  Application Implementation                  Power and Utilities  Ticker 1   \n",
      "3  Application Implementation                       Transportation  Ticker 1   \n",
      "4  Application Implementation                      Wholesale Trade  Ticker 1   \n",
      "\n",
      "    HQ Country  VendorRevenue-USD  ConstantCurrency Revenue-USD  \n",
      "0  Switzerland          47.585310                     46.387112  \n",
      "1  Switzerland          10.898766                     10.624335  \n",
      "2  Switzerland           7.325221                      7.140771  \n",
      "3  Switzerland          25.331839                     24.693983  \n",
      "4  Switzerland          10.252574                      9.994413   \n",
      "\n"
     ]
    }
   ],
   "source": [
    "for year, df in datasets.items():\n",
    "    print(f\"Dataset {year}:\\n\", df.head(), \"\\n\")"
   ]
  },
  {
   "cell_type": "markdown",
   "id": "81861f22-2a67-4b37-926f-51bc13af45f1",
   "metadata": {},
   "source": [
    "# **Tranfformation**"
   ]
  },
  {
   "cell_type": "markdown",
   "id": "cad4ab92-1f0a-4680-9665-dec83ee0f240",
   "metadata": {},
   "source": [
    "## Standardizing column names"
   ]
  },
  {
   "cell_type": "code",
   "execution_count": 38,
   "id": "d41e0fc5-9ecd-4c1f-86e9-75e42f4b65b1",
   "metadata": {},
   "outputs": [],
   "source": [
    "for year, df in datasets.items():\n",
    "    df.columns = df.columns.str.strip().str.replace(\"Vendor.1\", \"Vendor\").str.replace(\" & \", \" and \")\n",
    "    datasets[year] = df\n"
   ]
  },
  {
   "cell_type": "markdown",
   "id": "17a55559-f555-471b-b501-f40544bed3e9",
   "metadata": {},
   "source": [
    "## Clean & Merge Datasets\n",
    " Standardizing column names"
   ]
  },
  {
   "cell_type": "code",
   "execution_count": 39,
   "id": "dfe23a9f-1562-47d6-955f-c25aee5ff054",
   "metadata": {},
   "outputs": [],
   "source": [
    "for year, df in datasets.items():\n",
    "    df.columns = df.columns.str.strip()  \n",
    "    df.columns = df.columns.str.replace(\" \", \"_\") \n",
    "    df.columns = df.columns.str.replace(\"Super_Region\", \"SuperRegion\") \n",
    "    df.columns = df.columns.str.replace(\"Vendor.1\", \"Vendor\")\n",
    "    df.columns = df.columns.str.replace(\"ConstantCurrency_Revenue-USD\", \"ConstantCurrencyRevenueUSD\")\n",
    "\n",
    "# If SuperRegion is missing (like in 2023 dataset), add a placeholder\n",
    "    if \"SuperRegion\" not in df.columns:\n",
    "        df[\"SuperRegion\"] = \"Unknown\"\n",
    "\n",
    "    datasets[year] = df  # Update dataset after modifications\n"
   ]
  },
  {
   "cell_type": "markdown",
   "id": "edc16adb-3d97-4978-be47-366c55b72fee",
   "metadata": {},
   "source": [
    "# Fixing Vendor Column in 2021 & 2022\n",
    "\n",
    "## Replace generic Vendor column with actual vendor names for 2021 and 2022"
   ]
  },
  {
   "cell_type": "code",
   "execution_count": 40,
   "id": "48b2e619-ad72-4ef5-9ba0-27aa6ab84a98",
   "metadata": {},
   "outputs": [],
   "source": [
    "for year in [\"2021\", \"2022\"]:\n",
    "    if \"Vendor.1\" in datasets[year].columns:\n",
    "        datasets[year][\"Vendor\"] = datasets[year][\"Vendor.1\"]\n",
    "        datasets[year].drop(columns=[\"Vendor.1\"], inplace=True)\n"
   ]
  },
  {
   "cell_type": "markdown",
   "id": "c002cf42-6a18-4f46-8919-2f0ae1e7d41e",
   "metadata": {},
   "source": [
    "# Cleaning Year Column\n",
    "## Extracting the numeric year from 'Year' column"
   ]
  },
  {
   "cell_type": "code",
   "execution_count": 41,
   "id": "d5248343-9be3-4419-888c-7ee9cc12b14d",
   "metadata": {},
   "outputs": [],
   "source": [
    "for year, df in datasets.items():\n",
    "    df[\"Year\"] = df[\"Year\"].astype(str).str.extract(r\"(\\d{4})\").astype(int)\n",
    "    datasets[year] = df"
   ]
  },
  {
   "cell_type": "markdown",
   "id": "8536eb74-c5d3-4406-9e9f-1bc6ad0495ad",
   "metadata": {},
   "source": [
    "# Ensuring Numeric Data Types for Revenue\n",
    "## Convert revenue columns to numeric"
   ]
  },
  {
   "cell_type": "code",
   "execution_count": 42,
   "id": "6b37ea27-e6b6-49ad-aa41-6e2002130c77",
   "metadata": {},
   "outputs": [],
   "source": [
    "for year, df in datasets.items():\n",
    "    df[\"VendorRevenue-USD\"] = pd.to_numeric(df[\"VendorRevenue-USD\"], errors=\"coerce\")\n",
    "    df[\"ConstantCurrencyRevenueUSD\"] = pd.to_numeric(df[\"ConstantCurrencyRevenueUSD\"], errors=\"coerce\")\n",
    "    datasets[year] = df\n"
   ]
  },
  {
   "cell_type": "markdown",
   "id": "cbb2b90f-6541-42fb-b60c-c40b30025a1c",
   "metadata": {},
   "source": [
    "# Ensure Unique Columns and Align Structures\n",
    "## Before merging, let's identify if any dataset has duplicate columns."
   ]
  },
  {
   "cell_type": "code",
   "execution_count": 45,
   "id": "ea3d781e-68c0-4bfe-9173-571d92024a8c",
   "metadata": {},
   "outputs": [
    {
     "name": "stdout",
     "output_type": "stream",
     "text": [
      "Dataset '2021' has duplicate columns: ['vendor']\n",
      "Dataset '2022' has duplicate columns: ['vendor']\n"
     ]
    }
   ],
   "source": [
    "for year, df in datasets.items():\n",
    "    duplicate_cols = df.columns[df.columns.duplicated()].tolist()\n",
    "    if duplicate_cols:\n",
    "        print(f\"Dataset '{year}' has duplicate columns: {duplicate_cols}\")\n"
   ]
  },
  {
   "cell_type": "markdown",
   "id": "3bfb2c74-44f3-4194-98f1-b5863d69cdcb",
   "metadata": {},
   "source": [
    "# Remove or Rename Duplicate Columns"
   ]
  },
  {
   "cell_type": "code",
   "execution_count": 46,
   "id": "48a12f12-377d-43f4-935b-91eefd97a88e",
   "metadata": {},
   "outputs": [
    {
     "name": "stdout",
     "output_type": "stream",
     "text": [
      "Dataset '2021' has duplicate 'vendor' column. Checking values:\n",
      "     vendor     vendor  vendorrevenue-usd\n",
      "0  Vendor 2  Accenture           5.432218\n",
      "1  Vendor 2  Accenture           8.562894\n",
      "2  Vendor 2  Accenture           0.098677\n",
      "3  Vendor 2  Accenture           4.811882\n",
      "4  Vendor 2  Accenture           5.020963\n",
      "Dataset '2022' has duplicate 'vendor' column. Checking values:\n",
      "     vendor     vendor  vendorrevenue-usd\n",
      "0  Vendor 2  Accenture           7.055103\n",
      "1  Vendor 2  Accenture          10.720365\n",
      "2  Vendor 2  Accenture           0.142403\n",
      "3  Vendor 2  Accenture           6.334292\n",
      "4  Vendor 2  Accenture           6.392021\n"
     ]
    }
   ],
   "source": [
    "for year, df in datasets.items():\n",
    "    if \"vendor\" in df.columns[df.columns.duplicated()].tolist():\n",
    "        print(f\"Dataset '{year}' has duplicate 'vendor' column. Checking values:\")\n",
    "        print(df.filter(like=\"vendor\").head())\n"
   ]
  },
  {
   "cell_type": "markdown",
   "id": "b1140df6-578c-4fb3-93ee-9f4bd280cb11",
   "metadata": {},
   "source": [
    "# Rename One Column (If Different Data Exists)"
   ]
  },
  {
   "cell_type": "code",
   "execution_count": 47,
   "id": "3a1e220b-5f7d-43ab-bad1-41779a5cdde0",
   "metadata": {},
   "outputs": [],
   "source": [
    "for year, df in datasets.items():\n",
    "    vendor_cols = [col for col in df.columns if \"vendor\" in col]\n",
    "    if len(vendor_cols) > 1: \n",
    "        df.rename(columns={vendor_cols[1]: \"vendor_alt\"}, inplace=True)\n",
    "        datasets[year] = df\n"
   ]
  },
  {
   "cell_type": "markdown",
   "id": "eb9882f7-1cfc-41d9-9f33-ed6bf1d67296",
   "metadata": {},
   "source": [
    "# remove duplicate"
   ]
  },
  {
   "cell_type": "code",
   "execution_count": 49,
   "id": "f903a8af-d15a-4f69-9404-e7eafb0de1b5",
   "metadata": {},
   "outputs": [],
   "source": [
    "for year, df in datasets.items():\n",
    "    df = df.loc[:, ~df.columns.duplicated()] \n",
    "    datasets[year] = df\n"
   ]
  },
  {
   "cell_type": "markdown",
   "id": "559985f2-20ab-48e2-9baa-3d4bdbde8ec7",
   "metadata": {},
   "source": [
    "# Merge all datasets into a single DataFrame\n",
    "## Reset index to avoid duplicate index issues"
   ]
  },
  {
   "cell_type": "code",
   "execution_count": 50,
   "id": "49ddc79f-72a2-4264-9fae-82bb42bcbd07",
   "metadata": {},
   "outputs": [],
   "source": [
    "\n",
    "final_df = pd.concat([df.reset_index(drop=True) for df in datasets.values()], ignore_index=True)\n"
   ]
  },
  {
   "cell_type": "markdown",
   "id": "82c4b352-4e14-426a-9bc6-3ca315bb06f1",
   "metadata": {},
   "source": [
    "# Final Data output"
   ]
  },
  {
   "cell_type": "code",
   "execution_count": 51,
   "id": "713f9c91-2ec7-47f9-aa90-942d4ef7d15b",
   "metadata": {},
   "outputs": [
    {
     "name": "stdout",
     "output_type": "stream",
     "text": [
      "         year     superregion              region         country      vendor  \\\n",
      "0        2019  Eastern Europe      Eastern Europe  Czech Republic    Vendor 2   \n",
      "1        2019  Eastern Europe      Eastern Europe  Czech Republic    Vendor 2   \n",
      "2        2019  Eastern Europe      Eastern Europe  Czech Republic    Vendor 2   \n",
      "3        2019  Eastern Europe      Eastern Europe  Czech Republic    Vendor 2   \n",
      "4        2019  Eastern Europe      Eastern Europe  Czech Republic    Vendor 2   \n",
      "...       ...             ...                 ...             ...         ...   \n",
      "1702451  2023         Unknown  Sub-Saharan Africa    South Africa  Vendor 194   \n",
      "1702452  2023         Unknown  Sub-Saharan Africa    South Africa  Vendor 194   \n",
      "1702453  2023         Unknown  Sub-Saharan Africa    South Africa  Vendor 194   \n",
      "1702454  2023         Unknown  Sub-Saharan Africa    South Africa  Vendor 194   \n",
      "1702455  2023         Unknown  Sub-Saharan Africa    South Africa  Vendor 194   \n",
      "\n",
      "           service_1                                          service_2  \\\n",
      "0        IT Services    Application Implementation and Managed Services   \n",
      "1        IT Services    Application Implementation and Managed Services   \n",
      "2        IT Services    Application Implementation and Managed Services   \n",
      "3        IT Services    Application Implementation and Managed Services   \n",
      "4        IT Services    Application Implementation and Managed Services   \n",
      "...              ...                                                ...   \n",
      "1702451     Services  Infrastructure Implementation and Managed Serv...   \n",
      "1702452     Services  Infrastructure Implementation and Managed Serv...   \n",
      "1702453     Services  Infrastructure Implementation and Managed Serv...   \n",
      "1702454     Services  Infrastructure Implementation and Managed Serv...   \n",
      "1702455     Services  Infrastructure Implementation and Managed Serv...   \n",
      "\n",
      "                               service_3                             vertical  \\\n",
      "0             Application Implementation                 Banking & Securities   \n",
      "1             Application Implementation     Communications, Media & Services   \n",
      "2             Application Implementation                            Education   \n",
      "3             Application Implementation                           Government   \n",
      "4             Application Implementation                 Healthcare Providers   \n",
      "...                                  ...                                  ...   \n",
      "1702451  Infrastructure Managed Services  Manufacturing and Natural Resources   \n",
      "1702452  Infrastructure Managed Services                          Oil and Gas   \n",
      "1702453  Infrastructure Managed Services                  Power and Utilities   \n",
      "1702454  Infrastructure Managed Services                               Retail   \n",
      "1702455  Infrastructure Managed Services                       Transportation   \n",
      "\n",
      "             ticker     hq_country vendor_alt  constantcurrencyrevenueusd  \\\n",
      "0          Ticker 2  United States   5.693025                    5.632195   \n",
      "1          Ticker 2  United States   8.248331                    8.160199   \n",
      "2          Ticker 2  United States   0.098793                    0.097737   \n",
      "3          Ticker 2  United States    4.37442                    4.327679   \n",
      "4          Ticker 2  United States   2.630113                    2.602010   \n",
      "...             ...            ...        ...                         ...   \n",
      "1702451  Ticker 194          India   3.131055                    3.506231   \n",
      "1702452  Ticker 194          India   0.238376                    0.266939   \n",
      "1702453  Ticker 194          India   1.851709                    2.073588   \n",
      "1702454  Ticker 194          India   1.186291                    1.328437   \n",
      "1702455  Ticker 194          India   2.074089                    2.322615   \n",
      "\n",
      "         vendorrevenue-usd  \n",
      "0                      NaN  \n",
      "1                      NaN  \n",
      "2                      NaN  \n",
      "3                      NaN  \n",
      "4                      NaN  \n",
      "...                    ...  \n",
      "1702451                NaN  \n",
      "1702452                NaN  \n",
      "1702453                NaN  \n",
      "1702454                NaN  \n",
      "1702455                NaN  \n",
      "\n",
      "[1702456 rows x 14 columns]\n"
     ]
    }
   ],
   "source": [
    "print(final_df)"
   ]
  },
  {
   "cell_type": "markdown",
   "id": "a2a456ec-b5f0-4375-b71b-08463903300f",
   "metadata": {},
   "source": [
    "# Handling Missing Values\n",
    "## Fill missing values for key columns\n",
    "## Standardize column names (lowercase + strip spaces)"
   ]
  },
  {
   "cell_type": "code",
   "execution_count": 52,
   "id": "f2866b56-75a9-40aa-8fc2-1f0cf15c8cd6",
   "metadata": {},
   "outputs": [
    {
     "name": "stderr",
     "output_type": "stream",
     "text": [
      "C:\\Users\\ssuun\\AppData\\Local\\Temp\\ipykernel_9104\\2364875693.py:8: FutureWarning: A value is trying to be set on a copy of a DataFrame or Series through chained assignment using an inplace method.\n",
      "The behavior will change in pandas 3.0. This inplace method will never work because the intermediate object on which we are setting values always behaves as a copy.\n",
      "\n",
      "For example, when doing 'df[col].method(value, inplace=True)', try using 'df.method({col: value}, inplace=True)' or df[col] = df[col].method(value) instead, to perform the operation inplace on the original object.\n",
      "\n",
      "\n",
      "  final_df[\"superregion\"].fillna(\"Unknown\", inplace=True)\n",
      "C:\\Users\\ssuun\\AppData\\Local\\Temp\\ipykernel_9104\\2364875693.py:9: FutureWarning: A value is trying to be set on a copy of a DataFrame or Series through chained assignment using an inplace method.\n",
      "The behavior will change in pandas 3.0. This inplace method will never work because the intermediate object on which we are setting values always behaves as a copy.\n",
      "\n",
      "For example, when doing 'df[col].method(value, inplace=True)', try using 'df.method({col: value}, inplace=True)' or df[col] = df[col].method(value) instead, to perform the operation inplace on the original object.\n",
      "\n",
      "\n",
      "  final_df[\"region\"].fillna(\"Unknown\", inplace=True)\n",
      "C:\\Users\\ssuun\\AppData\\Local\\Temp\\ipykernel_9104\\2364875693.py:10: FutureWarning: A value is trying to be set on a copy of a DataFrame or Series through chained assignment using an inplace method.\n",
      "The behavior will change in pandas 3.0. This inplace method will never work because the intermediate object on which we are setting values always behaves as a copy.\n",
      "\n",
      "For example, when doing 'df[col].method(value, inplace=True)', try using 'df.method({col: value}, inplace=True)' or df[col] = df[col].method(value) instead, to perform the operation inplace on the original object.\n",
      "\n",
      "\n",
      "  final_df[\"vendor\"].fillna(\"Unknown\", inplace=True)\n",
      "C:\\Users\\ssuun\\AppData\\Local\\Temp\\ipykernel_9104\\2364875693.py:11: FutureWarning: A value is trying to be set on a copy of a DataFrame or Series through chained assignment using an inplace method.\n",
      "The behavior will change in pandas 3.0. This inplace method will never work because the intermediate object on which we are setting values always behaves as a copy.\n",
      "\n",
      "For example, when doing 'df[col].method(value, inplace=True)', try using 'df.method({col: value}, inplace=True)' or df[col] = df[col].method(value) instead, to perform the operation inplace on the original object.\n",
      "\n",
      "\n",
      "  final_df[\"vertical\"].fillna(\"Other\", inplace=True)\n"
     ]
    }
   ],
   "source": [
    "final_df.columns = final_df.columns.str.lower().str.strip()\n",
    "\n",
    "# Now fill missing values\n",
    "final_df[\"superregion\"].fillna(\"Unknown\", inplace=True)\n",
    "final_df[\"region\"].fillna(\"Unknown\", inplace=True)\n",
    "final_df[\"vendor\"].fillna(\"Unknown\", inplace=True)\n",
    "final_df[\"vertical\"].fillna(\"Other\", inplace=True)\n",
    "\n"
   ]
  },
  {
   "cell_type": "markdown",
   "id": "eeb63b4c-c372-4fe2-9595-a657296c610b",
   "metadata": {},
   "source": [
    " # List all columns to check for typos"
   ]
  },
  {
   "cell_type": "code",
   "execution_count": 53,
   "id": "204f227a-ba9f-4337-b47e-ecfad1ad05fc",
   "metadata": {},
   "outputs": [
    {
     "name": "stdout",
     "output_type": "stream",
     "text": [
      "Index(['year', 'superregion', 'region', 'country', 'vendor', 'service_1',\n",
      "       'service_2', 'service_3', 'vertical', 'ticker', 'hq_country',\n",
      "       'vendor_alt', 'constantcurrencyrevenueusd', 'vendorrevenue-usd'],\n",
      "      dtype='object')\n"
     ]
    }
   ],
   "source": [
    "print(final_df.columns) \n"
   ]
  },
  {
   "cell_type": "code",
   "execution_count": 54,
   "id": "9b4bfdec-bdb5-4804-887e-d2e3d39e778d",
   "metadata": {},
   "outputs": [
    {
     "name": "stdout",
     "output_type": "stream",
     "text": [
      "Columns in final_df: ['year', 'superregion', 'region', 'country', 'vendor', 'service_1', 'service_2', 'service_3', 'vertical', 'ticker', 'hq_country', 'vendor_alt', 'constantcurrencyrevenueusd', 'vendorrevenue-usd']\n"
     ]
    }
   ],
   "source": [
    "print(\"Columns in final_df:\", final_df.columns.tolist())\n"
   ]
  },
  {
   "cell_type": "markdown",
   "id": "788723ce-648d-401d-a0c0-ef5ab34d4b52",
   "metadata": {},
   "source": [
    "# Check Missing Values (NaN Counts)"
   ]
  },
  {
   "cell_type": "code",
   "execution_count": 55,
   "id": "5a989ec0-871d-4adc-8954-009882c4bb9f",
   "metadata": {},
   "outputs": [
    {
     "name": "stdout",
     "output_type": "stream",
     "text": [
      "year                               0\n",
      "superregion                        0\n",
      "region                             0\n",
      "country                            0\n",
      "vendor                             0\n",
      "service_1                          0\n",
      "service_2                          0\n",
      "service_3                          1\n",
      "vertical                           0\n",
      "ticker                             2\n",
      "hq_country                     22268\n",
      "vendor_alt                         1\n",
      "constantcurrencyrevenueusd         2\n",
      "vendorrevenue-usd             914876\n",
      "dtype: int64\n"
     ]
    }
   ],
   "source": [
    "print(final_df.isnull().sum())\n"
   ]
  },
  {
   "cell_type": "markdown",
   "id": "8e8ccf3b-0bc3-4a8b-b0e3-b21c251721d4",
   "metadata": {},
   "source": [
    "# Check Data Types"
   ]
  },
  {
   "cell_type": "code",
   "execution_count": 56,
   "id": "ef13ea74-f6b7-438b-af04-cb00ac962629",
   "metadata": {},
   "outputs": [
    {
     "name": "stdout",
     "output_type": "stream",
     "text": [
      "year                            int64\n",
      "superregion                    object\n",
      "region                         object\n",
      "country                        object\n",
      "vendor                         object\n",
      "service_1                      object\n",
      "service_2                      object\n",
      "service_3                      object\n",
      "vertical                       object\n",
      "ticker                         object\n",
      "hq_country                     object\n",
      "vendor_alt                     object\n",
      "constantcurrencyrevenueusd    float64\n",
      "vendorrevenue-usd             float64\n",
      "dtype: object\n"
     ]
    }
   ],
   "source": [
    "print(final_df.dtypes)"
   ]
  },
  {
   "cell_type": "markdown",
   "id": "ff647032-9930-4995-87c0-ef1cab64f91d",
   "metadata": {},
   "source": [
    "# Again Handling missing value"
   ]
  },
  {
   "cell_type": "code",
   "execution_count": 59,
   "id": "9eb0582a-829f-4e85-859d-1cf94abaf388",
   "metadata": {},
   "outputs": [
    {
     "name": "stderr",
     "output_type": "stream",
     "text": [
      "C:\\Users\\ssuun\\AppData\\Local\\Temp\\ipykernel_9104\\975621959.py:2: FutureWarning: A value is trying to be set on a copy of a DataFrame or Series through chained assignment using an inplace method.\n",
      "The behavior will change in pandas 3.0. This inplace method will never work because the intermediate object on which we are setting values always behaves as a copy.\n",
      "\n",
      "For example, when doing 'df[col].method(value, inplace=True)', try using 'df.method({col: value}, inplace=True)' or df[col] = df[col].method(value) instead, to perform the operation inplace on the original object.\n",
      "\n",
      "\n",
      "  final_df[\"service_3\"].fillna(\"Unknown\", inplace=True)\n",
      "C:\\Users\\ssuun\\AppData\\Local\\Temp\\ipykernel_9104\\975621959.py:3: FutureWarning: A value is trying to be set on a copy of a DataFrame or Series through chained assignment using an inplace method.\n",
      "The behavior will change in pandas 3.0. This inplace method will never work because the intermediate object on which we are setting values always behaves as a copy.\n",
      "\n",
      "For example, when doing 'df[col].method(value, inplace=True)', try using 'df.method({col: value}, inplace=True)' or df[col] = df[col].method(value) instead, to perform the operation inplace on the original object.\n",
      "\n",
      "\n",
      "  final_df[\"ticker\"].fillna(\"Unknown\", inplace=True)\n",
      "C:\\Users\\ssuun\\AppData\\Local\\Temp\\ipykernel_9104\\975621959.py:4: FutureWarning: A value is trying to be set on a copy of a DataFrame or Series through chained assignment using an inplace method.\n",
      "The behavior will change in pandas 3.0. This inplace method will never work because the intermediate object on which we are setting values always behaves as a copy.\n",
      "\n",
      "For example, when doing 'df[col].method(value, inplace=True)', try using 'df.method({col: value}, inplace=True)' or df[col] = df[col].method(value) instead, to perform the operation inplace on the original object.\n",
      "\n",
      "\n",
      "  final_df[\"hq_country\"].fillna(\"Unknown\", inplace=True)\n",
      "C:\\Users\\ssuun\\AppData\\Local\\Temp\\ipykernel_9104\\975621959.py:5: FutureWarning: A value is trying to be set on a copy of a DataFrame or Series through chained assignment using an inplace method.\n",
      "The behavior will change in pandas 3.0. This inplace method will never work because the intermediate object on which we are setting values always behaves as a copy.\n",
      "\n",
      "For example, when doing 'df[col].method(value, inplace=True)', try using 'df.method({col: value}, inplace=True)' or df[col] = df[col].method(value) instead, to perform the operation inplace on the original object.\n",
      "\n",
      "\n",
      "  final_df[\"vendor_alt\"].fillna(\"Unknown\", inplace=True)\n",
      "C:\\Users\\ssuun\\AppData\\Local\\Temp\\ipykernel_9104\\975621959.py:8: FutureWarning: A value is trying to be set on a copy of a DataFrame or Series through chained assignment using an inplace method.\n",
      "The behavior will change in pandas 3.0. This inplace method will never work because the intermediate object on which we are setting values always behaves as a copy.\n",
      "\n",
      "For example, when doing 'df[col].method(value, inplace=True)', try using 'df.method({col: value}, inplace=True)' or df[col] = df[col].method(value) instead, to perform the operation inplace on the original object.\n",
      "\n",
      "\n",
      "  final_df[\"constantcurrencyrevenueusd\"].fillna(final_df[\"constantcurrencyrevenueusd\"].median(), inplace=True)\n"
     ]
    }
   ],
   "source": [
    "# Fill missing values for categorical columns\n",
    "final_df[\"service_3\"].fillna(\"Unknown\", inplace=True)\n",
    "final_df[\"ticker\"].fillna(\"Unknown\", inplace=True)\n",
    "final_df[\"hq_country\"].fillna(\"Unknown\", inplace=True)\n",
    "final_df[\"vendor_alt\"].fillna(\"Unknown\", inplace=True)\n",
    "\n",
    "# Fill missing values for numerical columns\n",
    "final_df[\"constantcurrencyrevenueusd\"].fillna(final_df[\"constantcurrencyrevenueusd\"].median(), inplace=True)\n",
    "\n",
    "# Handle `vendorrevenue-usd`\n",
    "if final_df[\"vendorrevenue-usd\"].isnull().sum() > len(final_df) * 0.5:\n",
    "    final_df.drop(columns=[\"vendorrevenue-usd\"], inplace=True)  # Drop column if >50% missing\n",
    "else:\n",
    "    final_df[\"vendorrevenue-usd\"].fillna(final_df[\"vendorrevenue-usd\"].median(), inplace=True)  # Fill if needed\n"
   ]
  },
  {
   "cell_type": "markdown",
   "id": "8e70ddbe-f283-4cef-a32c-70aab355441c",
   "metadata": {},
   "source": [
    "# Again Check Missing Values (NaN Counts)"
   ]
  },
  {
   "cell_type": "code",
   "execution_count": 60,
   "id": "c32679b8-73e6-4438-a6cb-c36c3b60b01a",
   "metadata": {},
   "outputs": [
    {
     "name": "stdout",
     "output_type": "stream",
     "text": [
      "year                          0\n",
      "superregion                   0\n",
      "region                        0\n",
      "country                       0\n",
      "vendor                        0\n",
      "service_1                     0\n",
      "service_2                     0\n",
      "service_3                     0\n",
      "vertical                      0\n",
      "ticker                        0\n",
      "hq_country                    0\n",
      "vendor_alt                    0\n",
      "constantcurrencyrevenueusd    0\n",
      "dtype: int64\n"
     ]
    }
   ],
   "source": [
    "print(final_df.isnull().sum())"
   ]
  },
  {
   "cell_type": "markdown",
   "id": "f89ccff6-85b3-4e71-b2f6-6ca6d236d442",
   "metadata": {},
   "source": [
    "# Again check for duplicate rows"
   ]
  },
  {
   "cell_type": "code",
   "execution_count": 61,
   "id": "bd25e925-1a4c-4697-b0d4-54b6cbfff14d",
   "metadata": {},
   "outputs": [
    {
     "name": "stdout",
     "output_type": "stream",
     "text": [
      "48544\n"
     ]
    }
   ],
   "source": [
    "print(final_df.duplicated().sum())  # Count duplicate rows"
   ]
  },
  {
   "cell_type": "markdown",
   "id": "e0840a49-e82a-45e5-b3dc-21bbb3659dfd",
   "metadata": {},
   "source": [
    "# Remove duplicates"
   ]
  },
  {
   "cell_type": "code",
   "execution_count": 62,
   "id": "2addf51c-2fef-4d73-8e97-56e4bd41f592",
   "metadata": {},
   "outputs": [],
   "source": [
    "final_df = final_df.drop_duplicates().reset_index(drop=True)"
   ]
  },
  {
   "cell_type": "markdown",
   "id": "16957043-2bb3-44ba-8b40-c00dc8c6b3ef",
   "metadata": {},
   "source": [
    "# Sum of Duplicates"
   ]
  },
  {
   "cell_type": "code",
   "execution_count": 63,
   "id": "bdef2789-3f54-4066-bd1e-d5a73c07da72",
   "metadata": {},
   "outputs": [
    {
     "name": "stdout",
     "output_type": "stream",
     "text": [
      "0\n"
     ]
    }
   ],
   "source": [
    "print(final_df.duplicated().sum())"
   ]
  },
  {
   "cell_type": "markdown",
   "id": "c24510f5-2aa7-404c-b531-de4b128e3df4",
   "metadata": {},
   "source": [
    "# Check Data Types Again"
   ]
  },
  {
   "cell_type": "code",
   "execution_count": 65,
   "id": "85adb26d-df88-48bd-8752-8af6c065be79",
   "metadata": {},
   "outputs": [
    {
     "name": "stdout",
     "output_type": "stream",
     "text": [
      "year                            int64\n",
      "superregion                    object\n",
      "region                         object\n",
      "country                        object\n",
      "vendor                         object\n",
      "service_1                      object\n",
      "service_2                      object\n",
      "service_3                      object\n",
      "vertical                       object\n",
      "ticker                         object\n",
      "hq_country                     object\n",
      "vendor_alt                     object\n",
      "constantcurrencyrevenueusd    float64\n",
      "dtype: object\n"
     ]
    }
   ],
   "source": [
    "print(final_df.dtypes)"
   ]
  },
  {
   "cell_type": "markdown",
   "id": "924d4d36-f60c-4b16-9d64-729f897d6d56",
   "metadata": {},
   "source": [
    "# Save the Cleaned Data "
   ]
  },
  {
   "cell_type": "code",
   "execution_count": 66,
   "id": "1832c421-8d41-47ed-b754-d44285e1236e",
   "metadata": {},
   "outputs": [],
   "source": [
    "final_df.to_csv(\"IT_Services_Cleaned_Data.csv\", index=False)\n"
   ]
  },
  {
   "cell_type": "markdown",
   "id": "338dc9f9-15e3-4c04-869d-5c5f3a9258c6",
   "metadata": {},
   "source": [
    "# Renaming Some column for understanding"
   ]
  },
  {
   "cell_type": "code",
   "execution_count": null,
   "id": "3be28204-021c-47e3-8b8b-f3b7495bbd49",
   "metadata": {},
   "outputs": [],
   "source": [
    "import pandas as pd\n",
    "file_path = \"IT_Services_Cleaned_Data.csv\" \n",
    "df = pd.read_csv(file_path)\n",
    "\n",
    "# Rename the column\n",
    "df.rename(columns={\"vendor_alt\": \"vendorrevenue_usd\"}, inplace=True)\n",
    "# df.rename(columns={\"vendorrevenue_usd\": \"vendor_revenue_usd\"}, inplace=True)\n",
    "#df.rename(columns={\"constantcurrencyrevenueusd\": \"constant_currency_revenue_usd\"}, inplace=True)\n",
    "# Save the updated file (overwrite original or create a new file)\n",
    "df.to_csv(\"IT_Services_Cleaned_Data.csv\", index=False)  # Overwrite original\n"
   ]
  },
  {
   "cell_type": "code",
   "execution_count": null,
   "id": "95b184d9-aaeb-4ef9-81e7-ec203be866c1",
   "metadata": {},
   "outputs": [],
   "source": []
  },
  {
   "cell_type": "markdown",
   "id": "52c27856-09a7-4558-972b-3aaa195fea7c",
   "metadata": {},
   "source": [
    "# **Load Data To MySQL**"
   ]
  },
  {
   "cell_type": "markdown",
   "id": "ce91d29e-5df7-4d4c-869a-1047ff01191e",
   "metadata": {},
   "source": [
    "# Install MySQL Connector"
   ]
  },
  {
   "cell_type": "code",
   "execution_count": 3,
   "id": "d788f9aa-9bb6-4edd-a9fc-e8d15f062aa7",
   "metadata": {},
   "outputs": [
    {
     "name": "stdout",
     "output_type": "stream",
     "text": [
      "Requirement already satisfied: mysql-connector-python in c:\\users\\ssuun\\appdata\\local\\programs\\python\\python313\\lib\\site-packages (9.2.0)\n"
     ]
    }
   ],
   "source": [
    "\n",
    "!pip install mysql-connector-python\n"
   ]
  },
  {
   "cell_type": "markdown",
   "id": "a7742336-c1be-486b-afbc-1e9ceff11221",
   "metadata": {},
   "source": [
    "# Verify MySQL Connector Installation"
   ]
  },
  {
   "cell_type": "code",
   "execution_count": 2,
   "id": "82ee6a51-9a06-4666-80d2-a0ced943f35c",
   "metadata": {},
   "outputs": [
    {
     "name": "stdout",
     "output_type": "stream",
     "text": [
      "MySQL Connector is installed and working!\n"
     ]
    }
   ],
   "source": [
    "import mysql.connector\n",
    "print(\"MySQL Connector is installed and working!\")\n"
   ]
  },
  {
   "cell_type": "markdown",
   "id": "c8976f01-3504-4bed-9a37-9912e9968a02",
   "metadata": {},
   "source": [
    "# Connection to MySQL"
   ]
  },
  {
   "cell_type": "code",
   "execution_count": 3,
   "id": "b7bb6c0d-e245-4873-881b-76b2c2a6c02a",
   "metadata": {},
   "outputs": [
    {
     "name": "stdout",
     "output_type": "stream",
     "text": [
      "Connected to MySQL successfully!\n"
     ]
    }
   ],
   "source": [
    "import mysql.connector\n",
    "\n",
    "try:\n",
    "    conn = mysql.connector.connect(\n",
    "        host=\"localhost\",\n",
    "        user=\"root\",\n",
    "        password=\"Sun!l@123\",\n",
    "        database=\"it_service_market_share_db\"\n",
    "    )\n",
    "\n",
    "    if conn.is_connected():\n",
    "        print(\"Connected to MySQL successfully!\")\n",
    "\n",
    "    conn.close()\n",
    "\n",
    "except mysql.connector.Error as err:\n",
    "    print(f\"Error: {err}\")\n"
   ]
  },
  {
   "cell_type": "code",
   "execution_count": 69,
   "id": "14d449d3-a6aa-4ea6-a185-bda0deb5361f",
   "metadata": {},
   "outputs": [
    {
     "name": "stdout",
     "output_type": "stream",
     "text": [
      "C:\\Users\\ssuun\\AppData\\Local\\Programs\\Python\\Python313\\python.exe\n"
     ]
    }
   ],
   "source": [
    "import sys\n",
    "print(sys.executable)\n"
   ]
  },
  {
   "cell_type": "markdown",
   "id": "a1b27d74-3987-4599-aef1-ea88dbb43e68",
   "metadata": {},
   "source": [
    "# Load the Cleaned Data into MySQL"
   ]
  },
  {
   "cell_type": "code",
   "execution_count": 112,
   "id": "599dceb1-5868-417d-9259-db47a8ef8c1c",
   "metadata": {},
   "outputs": [
    {
     "name": "stderr",
     "output_type": "stream",
     "text": [
      "C:\\Users\\ssuun\\AppData\\Local\\Temp\\ipykernel_9104\\1679947916.py:11: DtypeWarning: Columns (11) have mixed types. Specify dtype option on import or set low_memory=False.\n",
      "  df = pd.read_csv(\"IT_Services_Cleaned_Data.csv\")\n"
     ]
    },
    {
     "data": {
      "text/html": [
       "<div>\n",
       "<style scoped>\n",
       "    .dataframe tbody tr th:only-of-type {\n",
       "        vertical-align: middle;\n",
       "    }\n",
       "\n",
       "    .dataframe tbody tr th {\n",
       "        vertical-align: top;\n",
       "    }\n",
       "\n",
       "    .dataframe thead th {\n",
       "        text-align: right;\n",
       "    }\n",
       "</style>\n",
       "<table border=\"1\" class=\"dataframe\">\n",
       "  <thead>\n",
       "    <tr style=\"text-align: right;\">\n",
       "      <th></th>\n",
       "      <th>year</th>\n",
       "      <th>superregion</th>\n",
       "      <th>region</th>\n",
       "      <th>country</th>\n",
       "      <th>vendor</th>\n",
       "      <th>service_1</th>\n",
       "      <th>service_2</th>\n",
       "      <th>service_3</th>\n",
       "      <th>vertical</th>\n",
       "      <th>ticker</th>\n",
       "      <th>hq_country</th>\n",
       "      <th>vendor_revenue_usd</th>\n",
       "      <th>constant_currency_revenue_usd</th>\n",
       "    </tr>\n",
       "  </thead>\n",
       "  <tbody>\n",
       "    <tr>\n",
       "      <th>0</th>\n",
       "      <td>2019</td>\n",
       "      <td>Eastern Europe</td>\n",
       "      <td>Eastern Europe</td>\n",
       "      <td>Czech Republic</td>\n",
       "      <td>Vendor 2</td>\n",
       "      <td>IT Services</td>\n",
       "      <td>Application Implementation and Managed Services</td>\n",
       "      <td>Application Implementation</td>\n",
       "      <td>Banking &amp; Securities</td>\n",
       "      <td>Ticker 2</td>\n",
       "      <td>United States</td>\n",
       "      <td>5.693025</td>\n",
       "      <td>5.632195</td>\n",
       "    </tr>\n",
       "    <tr>\n",
       "      <th>1</th>\n",
       "      <td>2019</td>\n",
       "      <td>Eastern Europe</td>\n",
       "      <td>Eastern Europe</td>\n",
       "      <td>Czech Republic</td>\n",
       "      <td>Vendor 2</td>\n",
       "      <td>IT Services</td>\n",
       "      <td>Application Implementation and Managed Services</td>\n",
       "      <td>Application Implementation</td>\n",
       "      <td>Communications, Media &amp; Services</td>\n",
       "      <td>Ticker 2</td>\n",
       "      <td>United States</td>\n",
       "      <td>8.248331</td>\n",
       "      <td>8.160199</td>\n",
       "    </tr>\n",
       "    <tr>\n",
       "      <th>2</th>\n",
       "      <td>2019</td>\n",
       "      <td>Eastern Europe</td>\n",
       "      <td>Eastern Europe</td>\n",
       "      <td>Czech Republic</td>\n",
       "      <td>Vendor 2</td>\n",
       "      <td>IT Services</td>\n",
       "      <td>Application Implementation and Managed Services</td>\n",
       "      <td>Application Implementation</td>\n",
       "      <td>Education</td>\n",
       "      <td>Ticker 2</td>\n",
       "      <td>United States</td>\n",
       "      <td>0.098793</td>\n",
       "      <td>0.097737</td>\n",
       "    </tr>\n",
       "    <tr>\n",
       "      <th>3</th>\n",
       "      <td>2019</td>\n",
       "      <td>Eastern Europe</td>\n",
       "      <td>Eastern Europe</td>\n",
       "      <td>Czech Republic</td>\n",
       "      <td>Vendor 2</td>\n",
       "      <td>IT Services</td>\n",
       "      <td>Application Implementation and Managed Services</td>\n",
       "      <td>Application Implementation</td>\n",
       "      <td>Government</td>\n",
       "      <td>Ticker 2</td>\n",
       "      <td>United States</td>\n",
       "      <td>4.37442</td>\n",
       "      <td>4.327679</td>\n",
       "    </tr>\n",
       "    <tr>\n",
       "      <th>4</th>\n",
       "      <td>2019</td>\n",
       "      <td>Eastern Europe</td>\n",
       "      <td>Eastern Europe</td>\n",
       "      <td>Czech Republic</td>\n",
       "      <td>Vendor 2</td>\n",
       "      <td>IT Services</td>\n",
       "      <td>Application Implementation and Managed Services</td>\n",
       "      <td>Application Implementation</td>\n",
       "      <td>Healthcare Providers</td>\n",
       "      <td>Ticker 2</td>\n",
       "      <td>United States</td>\n",
       "      <td>2.630113</td>\n",
       "      <td>2.602010</td>\n",
       "    </tr>\n",
       "  </tbody>\n",
       "</table>\n",
       "</div>"
      ],
      "text/plain": [
       "   year     superregion          region         country    vendor  \\\n",
       "0  2019  Eastern Europe  Eastern Europe  Czech Republic  Vendor 2   \n",
       "1  2019  Eastern Europe  Eastern Europe  Czech Republic  Vendor 2   \n",
       "2  2019  Eastern Europe  Eastern Europe  Czech Republic  Vendor 2   \n",
       "3  2019  Eastern Europe  Eastern Europe  Czech Republic  Vendor 2   \n",
       "4  2019  Eastern Europe  Eastern Europe  Czech Republic  Vendor 2   \n",
       "\n",
       "     service_1                                        service_2  \\\n",
       "0  IT Services  Application Implementation and Managed Services   \n",
       "1  IT Services  Application Implementation and Managed Services   \n",
       "2  IT Services  Application Implementation and Managed Services   \n",
       "3  IT Services  Application Implementation and Managed Services   \n",
       "4  IT Services  Application Implementation and Managed Services   \n",
       "\n",
       "                    service_3                          vertical    ticker  \\\n",
       "0  Application Implementation              Banking & Securities  Ticker 2   \n",
       "1  Application Implementation  Communications, Media & Services  Ticker 2   \n",
       "2  Application Implementation                         Education  Ticker 2   \n",
       "3  Application Implementation                        Government  Ticker 2   \n",
       "4  Application Implementation              Healthcare Providers  Ticker 2   \n",
       "\n",
       "      hq_country vendor_revenue_usd  constant_currency_revenue_usd  \n",
       "0  United States           5.693025                       5.632195  \n",
       "1  United States           8.248331                       8.160199  \n",
       "2  United States           0.098793                       0.097737  \n",
       "3  United States            4.37442                       4.327679  \n",
       "4  United States           2.630113                       2.602010  "
      ]
     },
     "execution_count": 112,
     "metadata": {},
     "output_type": "execute_result"
    }
   ],
   "source": [
    "import pandas as pd\n",
    "df = pd.read_csv(\"IT_Services_Cleaned_Data.csv\")\n",
    "\n",
    "df.head()"
   ]
  },
  {
   "cell_type": "markdown",
   "id": "90b2b567-c1f8-4d7d-a919-18dd82dcb278",
   "metadata": {},
   "source": [
    "# Insert Data from Jupyter to MySQL"
   ]
  },
  {
   "cell_type": "code",
   "execution_count": 127,
   "id": "4bc2e806-7598-4597-9657-1dd4285aa9ff",
   "metadata": {},
   "outputs": [
    {
     "name": "stdout",
     "output_type": "stream",
     "text": [
      "✅ Data successfully inserted into MySQL!\n"
     ]
    }
   ],
   "source": [
    "import mysql.connector\n",
    "\n",
    "# Establish MySQL connection\n",
    "conn = mysql.connector.connect(\n",
    "    host=\"localhost\",\n",
    "    user=\"root\",\n",
    "    password=\"Sun!l@123\",\n",
    "    database=\"it_service_market_share_db\"\n",
    ")\n",
    "cursor = conn.cursor()\n",
    "\n",
    "# SQL query to insert data\n",
    "insert_query = \"\"\"\n",
    "INSERT INTO it_services_market (year, superregion, region, country, vendor, service_1, service_2, service_3, \n",
    "                         vertical, ticker, hq_country,  vendor_revenue_usd, constant_currency_revenue_usd)\n",
    "VALUES (%s, %s, %s, %s, %s, %s, %s, %s, %s, %s, %s, %s, %s)\n",
    "\"\"\"\n",
    "\n",
    "# Insert each row from DataFrame\n",
    "for i, row in df.iterrows():\n",
    "    cursor.execute(insert_query, tuple(row))\n",
    "\n",
    "# Commit changes and close connection\n",
    "conn.commit()\n",
    "conn.close()\n",
    "\n",
    "print(\"✅ Data successfully inserted into MySQL!\")\n"
   ]
  },
  {
   "cell_type": "code",
   "execution_count": null,
   "id": "7d02e6e0-1e10-4fb1-b1a2-0c5f4a648aa0",
   "metadata": {},
   "outputs": [],
   "source": []
  }
 ],
 "metadata": {
  "kernelspec": {
   "display_name": "Python 3.13",
   "language": "python",
   "name": "python313"
  },
  "language_info": {
   "codemirror_mode": {
    "name": "ipython",
    "version": 3
   },
   "file_extension": ".py",
   "mimetype": "text/x-python",
   "name": "python",
   "nbconvert_exporter": "python",
   "pygments_lexer": "ipython3",
   "version": "3.13.1"
  }
 },
 "nbformat": 4,
 "nbformat_minor": 5
}
